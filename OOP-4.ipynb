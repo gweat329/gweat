{
 "cells": [
  {
   "cell_type": "code",
   "execution_count": 4,
   "metadata": {},
   "outputs": [
    {
     "name": "stdout",
     "output_type": "stream",
     "text": [
      "Hai ,my name is LIU YING\n",
      "Hai ,my age is 19\n",
      "Hai ,my name is MICHI STANGLE\n",
      "Hai ,my age is 24\n"
     ]
    }
   ],
   "source": [
    "# 属性案例\n",
    "# 创建Student类，描述学生类\n",
    "# 学生具有Student.name属性\n",
    "# 但name格式并不统一\n",
    "# 可以用增加一个函数，然后自动调用的方式，但很蠢\n",
    "class Student():\n",
    "    def __init__(self,name,age):\n",
    "        self.name = name.upper()\n",
    "        self.age = int(age)\n",
    "        \n",
    "        # 如果不想修改代码\n",
    "        #self.setName(name,age)\n",
    "        \n",
    "    # 介绍下自己\n",
    "    def intro(self):\n",
    "        print(\"Hai ,my name is {0}\".format(self.name))\n",
    "        \n",
    "        # 让输入的含小数点的数字转化成整数\n",
    "        print(\"Hai ,my age is {0}\".format(self.age))\n",
    "        \n",
    "    #def setName(self,name,age):\n",
    "     #   self.name = name.upper()\n",
    "      #  self.age = age\n",
    "        \n",
    "s1 = Student(\"LIU Ying\",19.8)\n",
    "s2 = Student(\"michi stangle\",24.0)\n",
    "\n",
    "s1.intro()\n",
    "s2.intro()"
   ]
  },
  {
   "cell_type": "code",
   "execution_count": 10,
   "metadata": {},
   "outputs": [
    {
     "name": "stdout",
     "output_type": "stream",
     "text": [
      "18\n"
     ]
    }
   ],
   "source": [
    "# property案例\n",
    "# 定义一个Perperty类，具有name,age属性\n",
    "# 对于任意输入的姓名，我们希望都用大写方式保存\n",
    "# 年龄，我们希望内部统一用整数保存\n",
    "# x = property(fget,fset,fdel,doc)\n",
    "# property函数内的属性用 self._age 格式，不然会报错\n",
    "\n",
    "class Person():\n",
    "    '''\n",
    "    这是一个人，一个高尚的人，一个脱离了低级趣味的人\n",
    "    他还他妈的有属性\n",
    "    '''\n",
    "    # 函数的名称可以任意\n",
    "    def fget(self):\n",
    "        return self._age\n",
    "    def fset(self,age):\n",
    "        self._age = int(age)\n",
    "    def fdel(self):\n",
    "        self._age = 0\n",
    "    age = property(fget,fset,fdel,\"对年龄有一些想法\")\n",
    "    \n",
    "p = Person()\n",
    "p.age = 18.7\n",
    "print(p.age)"
   ]
  },
  {
   "cell_type": "code",
   "execution_count": 11,
   "metadata": {},
   "outputs": [
    {
     "name": "stdout",
     "output_type": "stream",
     "text": [
      "{'__module__': '__main__', '__doc__': '\\n    这是一个人，一个高尚的人，一个脱离了低级趣味的人\\n    他还他妈的有属性\\n    ', 'fget': <function Person.fget at 0x7f2a7445f268>, 'fset': <function Person.fset at 0x7f2a7445f1e0>, 'fdel': <function Person.fdel at 0x7f2a74473620>, 'age': <property object at 0x7f2a7446a4a8>, '__dict__': <attribute '__dict__' of 'Person' objects>, '__weakref__': <attribute '__weakref__' of 'Person' objects>}\n",
      "\n",
      "    这是一个人，一个高尚的人，一个脱离了低级趣味的人\n",
      "    他还他妈的有属性\n",
      "    \n",
      "Person\n",
      "(<class 'object'>,)\n"
     ]
    }
   ],
   "source": [
    "# 类的内置属性举例\n",
    "print(Person.__dict__)\n",
    "print(Person.__doc__)\n",
    "print(Person.__name__)\n",
    "print(Person.__bases__)"
   ]
  },
  {
   "cell_type": "code",
   "execution_count": 14,
   "metadata": {},
   "outputs": [
    {
     "name": "stdout",
     "output_type": "stream",
     "text": [
      "哈哈，我被调用\n"
     ]
    }
   ],
   "source": [
    "# init 举例\n",
    "class A():\n",
    "    def __init__(self,name = 0):\n",
    "        print(\"哈哈，我被调用\")\n",
    "a = A()"
   ]
  },
  {
   "cell_type": "code",
   "execution_count": 19,
   "metadata": {},
   "outputs": [
    {
     "name": "stdout",
     "output_type": "stream",
     "text": [
      "哈哈，我被调用了\n",
      "我被调用了again\n"
     ]
    }
   ],
   "source": [
    "# __call__举例 输入实例对象a()可以直接调用函数后的语句\n",
    "class A():\n",
    "    def __init__(self,name = 0):\n",
    "        print(\"哈哈，我被调用了\")\n",
    "    def __call__(self):\n",
    "        print(\"我被调用了again\")\n",
    "a = A()\n",
    "a()"
   ]
  },
  {
   "cell_type": "code",
   "execution_count": 23,
   "metadata": {},
   "outputs": [
    {
     "name": "stdout",
     "output_type": "stream",
     "text": [
      "哈哈，我被调用了\n",
      "图灵学院的例子\n"
     ]
    }
   ],
   "source": [
    "# __str__举例 返回字符串\n",
    "class A():\n",
    "    def __init__(self,name = 0):\n",
    "        print(\"哈哈，我被调用了\")\n",
    "        \n",
    "    def __call__(self):\n",
    "        print(\"我被调用了again\")\n",
    "    def __str__(self):\n",
    "        return \"图灵学院的例子\"\n",
    "a = A()\n",
    "print(a)"
   ]
  },
  {
   "cell_type": "code",
   "execution_count": 30,
   "metadata": {},
   "outputs": [
    {
     "name": "stdout",
     "output_type": "stream",
     "text": [
      "NoName\n",
      "没找到呀没找到\n",
      "addr\n",
      "None\n"
     ]
    }
   ],
   "source": [
    "# __getattr__\n",
    "\n",
    "class A():\n",
    "    name = \"NoName\"\n",
    "    age = 18\n",
    "    \n",
    "    def __getattr__(self,name):\n",
    "        print(\"没找到呀没找到\")\n",
    "        print(name)\n",
    "a = A()\n",
    "print(a.name)\n",
    "print(a.addr)"
   ]
  },
  {
   "cell_type": "code",
   "execution_count": 32,
   "metadata": {},
   "outputs": [
    {
     "name": "stdout",
     "output_type": "stream",
     "text": [
      "{}\n",
      "设置属性：age：18\n"
     ]
    }
   ],
   "source": [
    "# __setattr__案例\n",
    "class Person():\n",
    "    def __init__(self):\n",
    "        pass\n",
    "    \n",
    "    def __setattr__(self,name,value):\n",
    "        print(\"设置属性：{0}：{1}\".format(name,value))\n",
    "        # 下面语句会导致问题，死循环\n",
    "        # self.name = value\n",
    "        # 此种情况，为了避免死循环，规定统一调用父类魔法函数\n",
    "        super().__setattr__(name,value)\n",
    "\n",
    "p = Person()\n",
    "print(p.__dict__)\n",
    "p.age = 18"
   ]
  },
  {
   "cell_type": "code",
   "execution_count": 36,
   "metadata": {},
   "outputs": [
    {
     "name": "stdout",
     "output_type": "stream",
     "text": [
      "哈哈，one会比two大吗？\n",
      "False\n"
     ]
    }
   ],
   "source": [
    "# __gt__\n",
    "\n",
    "class Student():\n",
    "    def __init__(self,name):\n",
    "        self._name = name\n",
    "    def __gt__(self,lself):\n",
    "        print(\"哈哈，{0}会比{1}大吗？\".format(self._name,lself._name))\n",
    "        return self._name > lself._name\n",
    "stu1 = Student(\"one\")\n",
    "stu2 = Student(\"two\")\n",
    "print(stu1 > stu2)"
   ]
  },
  {
   "cell_type": "code",
   "execution_count": 39,
   "metadata": {},
   "outputs": [
    {
     "name": "stdout",
     "output_type": "stream",
     "text": [
      "<__main__.Person object at 0x7f2a74477748>\n",
      "Eating......\n",
      "******************************\n",
      "<class '__main__.Person'>\n",
      "Playing......\n",
      "<class '__main__.Person'>\n",
      "Playing......\n",
      "******************************\n",
      "Saying......\n",
      "Saying......\n"
     ]
    }
   ],
   "source": [
    "# 三种方法的案例\n",
    "class Person():\n",
    "    #实例方法\n",
    "    def eat(self):\n",
    "        print(self)\n",
    "        print(\"Eating......\")\n",
    "    \n",
    "    # 类方法\n",
    "    # 类方法的第一个参数，一般命名为cls，区别于self\n",
    "    @classmethod\n",
    "    def play(cls):\n",
    "        print(cls)\n",
    "        print(\"Playing......\")\n",
    "        \n",
    "    # 静态方法\n",
    "    # 不需要用第一个参数表示自身或者类\n",
    "    @staticmethod\n",
    "    def say():\n",
    "        print(\"Saying......\")\n",
    "        \n",
    "yueyue = Person()\n",
    "\n",
    "# 实例方法\n",
    "yueyue.eat()\n",
    "print(\"*\"*30)\n",
    "# 类方法\n",
    "Person.play()\n",
    "yueyue.play()\n",
    "print(\"*\"*30)\n",
    "# 静态方法\n",
    "\n",
    "Person.say()\n",
    "yueyue.say()"
   ]
  }
 ],
 "metadata": {
  "kernelspec": {
   "display_name": "Python 3",
   "language": "python",
   "name": "python3"
  },
  "language_info": {
   "codemirror_mode": {
    "name": "ipython",
    "version": 3
   },
   "file_extension": ".py",
   "mimetype": "text/x-python",
   "name": "python",
   "nbconvert_exporter": "python",
   "pygments_lexer": "ipython3",
   "version": "3.6.3"
  }
 },
 "nbformat": 4,
 "nbformat_minor": 2
}
