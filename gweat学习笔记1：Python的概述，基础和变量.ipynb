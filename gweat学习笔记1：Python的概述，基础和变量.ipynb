{
 "cells": [
  {
   "cell_type": "code",
   "execution_count": 2,
   "metadata": {},
   "outputs": [
    {
     "name": "stdout",
     "output_type": "stream",
     "text": [
      "Hello world\n"
     ]
    }
   ],
   "source": [
    "print(\"Hello world\")"
   ]
  },
  {
   "cell_type": "code",
   "execution_count": 1,
   "metadata": {},
   "outputs": [
    {
     "name": "stdout",
     "output_type": "stream",
     "text": [
      "Hello world\n"
     ]
    },
    {
     "data": {
      "text/plain": [
       "'\\n这里边任何内容机器都不管了\\n我可以写好多\\n好多\\n'"
      ]
     },
     "execution_count": 1,
     "metadata": {},
     "output_type": "execute_result"
    }
   ],
   "source": [
    "# 代码的作用\n",
    "# 1.给人看\n",
    "# 2.给机器看\n",
    "# 注释是给人看的内容\n",
    "print(\"Hello world\") #打印hello world出来\n",
    "'''\n",
    "这里边任何内容机器都不管了\n",
    "我可以写好多\n",
    "好多\n",
    "'''"
   ]
  },
  {
   "cell_type": "markdown",
   "metadata": {},
   "source": [
    "# 注释\n",
    "   - 机器不去执行注释内容\n",
    "   - 注释一般用自然语言书写\n",
    "   - 注释的写法：\n",
    "       - 行注释：以＃号开头，可以单独行，也可以在某行代码后边\n",
    "       - 块注释：好几行代码或者内容，以三个连续的单引号或者双引号开始和结书，中间任何内容机器都忽略"
   ]
  },
  {
   "cell_type": "markdown",
   "metadata": {},
   "source": [
    "# 变量\n",
    "   - 程序=数据结构+算法\n",
    "   - 变量就是可以重复使用的一个量，或者叫一个代号\n",
    "   - 变量命名的规则\n",
    "       - 变量命名可以包含数字，大小写字母，下划线或者更多，但是我们不推荐除了前三种内容之外的符号\n",
    "       - 数字不可以打头\n",
    "           - 4man,5for 是不可以的\n",
    "           - man4,for5 是可以的\n",
    "       - 一般在python中，\n",
    "          - 下划线开头的内容具有特殊含义，不建议使用\n",
    "          - 比如 _age,_name,理论可以，但强烈不推荐，包括但不限于一个下划线开头和两个连续下划线开头\n",
    "       - 大小写不一样，俗称大小写敏感\n",
    "          - ForMan 跟forMan不是一个变量名称\n",
    "       - 推荐：\n",
    "         - 使用具有固定含义的英文单词或者缩写， 比如：srv=server,skt=socket,一般以posix命名规则为主\n",
    "         - 驼峰命名法\n",
    "            - 名称以单词自动连接，且每个单词首字母大写\n",
    "               - 大驼峰，每个单词第一个字母均大写\n",
    "                 - 在python中给类命名使用此法\n",
    "                 - MyFirstLove,IntOne\n",
    "               - 小驼峰，类似大驼峰，但第一个字母小写\n",
    "                  - 在python中一般给普遍变量或者函数命名\n",
    "                  - myFirstLove,intOne\n",
    "               - posix写法\n",
    "                  - 多个单词用下划线链接\n",
    "                  - 单词全部小写\n",
    "                  - my_first_love, int_one\n",
    "       - 保留字和关键字\n",
    "          - 变量命名必须避开，不能跟关键字和保留字重复\n",
    "          - class,  def,  break,  for"
   ]
  },
  {
   "cell_type": "code",
   "execution_count": 2,
   "metadata": {},
   "outputs": [
    {
     "name": "stdout",
     "output_type": "stream",
     "text": [
      "['False', 'None', 'True', 'and', 'as', 'assert', 'async', 'await', 'break', 'class', 'continue', 'def', 'del', 'elif', 'else', 'except', 'finally', 'for', 'from', 'global', 'if', 'import', 'in', 'is', 'lambda', 'nonlocal', 'not', 'or', 'pass', 'raise', 'return', 'try', 'while', 'with', 'yield']\n"
     ]
    }
   ],
   "source": [
    "# 查看关键字的方法\n",
    "import keyword #引入关键字模块\n",
    "print(keyword.kwlist)"
   ]
  },
  {
   "cell_type": "markdown",
   "metadata": {},
   "source": [
    "##  变量声明\n",
    "  - var_name = var_value\n",
    "  - var1 = var2 = var_value\n",
    "  - var1,var2,var3 = v1,v2,v3"
   ]
  },
  {
   "cell_type": "code",
   "execution_count": 3,
   "metadata": {},
   "outputs": [
    {
     "name": "stdout",
     "output_type": "stream",
     "text": [
      "18\n",
      "18\n",
      "18 18 18\n",
      "12 21 45\n"
     ]
    }
   ],
   "source": [
    "# 定义变量age ,把18放入变量age中\n",
    "age = 18\n",
    "print(age)\n",
    "print(18)\n",
    "\n",
    "# 给age1,age2,age3 放入同样一个内容或值\n",
    "age1 = age2 = age3 = 18\n",
    "print(age1,age2,age3)\n",
    "\n",
    "# 一行内给多个变量赋值\n",
    "age4,age5,age6 = 12,21,45\n",
    "print(age4,age5,age6)"
   ]
  },
  {
   "cell_type": "markdown",
   "metadata": {},
   "source": [
    "## 变量类型\n",
    " - 严格意义上讲，python只有一个类型\n",
    " - 标准数据一共六种\n",
    "     - 数字类型Number\n",
    "     - 字符串类型str\n",
    "     - 列表list\n",
    "     - 元组tuple\n",
    "     - 字典 Dictionary\n",
    "     - 集合 set"
   ]
  },
  {
   "cell_type": "markdown",
   "metadata": {},
   "source": [
    "## Number数字类型\n",
    "- 数字类型没有大小限制\n",
    "1. 整数、\n",
    "- 没有小数部分，O,表示个数的数字\n",
    "- 自然数，负自然数\n",
    "- 整数分进制\n",
    "   - 二进制\n",
    "     - 计算机常用\n",
    "     - 是计算机唯一能直接理解的数字\n",
    "     - 表示为0b开头的0，1代码\n",
    "     - 例如  0B1101, 0B10001\n",
    "   - 八进制\n",
    "      - 不常用\n",
    "      - 以0o开头的包含0-7的数字\n",
    "   - 十六进制\n",
    "      - 逢16进1\n",
    "      - 其实是每四位二进制表示一位十六进制数\n",
    "      - 包含0-9，a-f\n",
    "      - 数字上以0x开头表示\n",
    "   - 十进制\n",
    "      - 18，89，178"
   ]
  },
  {
   "cell_type": "code",
   "execution_count": 14,
   "metadata": {},
   "outputs": [
    {
     "name": "stdout",
     "output_type": "stream",
     "text": [
      "18\n",
      "16\n",
      "66\n"
     ]
    }
   ],
   "source": [
    "age = 18\n",
    "print(18)\n",
    "\n",
    "age = 0b10000\n",
    "print(age)\n",
    "\n",
    "age = 0o102\n",
    "print(age)"
   ]
  },
  {
   "cell_type": "markdown",
   "metadata": {},
   "source": [
    "### 浮点数\n",
    "- 小数\n",
    "- 计算机里边表示浮点数可以有条件省略\n",
    "- 3.1415\n",
    "- 3.\n",
    "- 0.5\n",
    "- .5\n",
    "- 科学计算法\n",
    "  - 定义跟数学定义\n",
    "  - 写法使用e/E后面跟整数表示10的指数\n",
    "  - 176.23 == 1.7623e2\n",
    "  - 0.876 == 8.76e-1\n"
   ]
  },
  {
   "cell_type": "code",
   "execution_count": 15,
   "metadata": {},
   "outputs": [
    {
     "name": "stdout",
     "output_type": "stream",
     "text": [
      "156.34\n",
      "0.2\n",
      "0.6\n"
     ]
    }
   ],
   "source": [
    "height = 156.34\n",
    "print(height)\n",
    "\n",
    "shili = 0.2\n",
    "print(shili)\n",
    "\n",
    "shili = .6\n",
    "print(shili)"
   ]
  },
  {
   "cell_type": "markdown",
   "metadata": {},
   "source": [
    "### 复数complex\n",
    "- 定义同数学定义一致\n",
    "- 一个由实部和虚部构成的数字\n",
    "- 虚部用j/J表示\n",
    "- 5+3j\n",
    "- 3j\n",
    "-   (3j)"
   ]
  },
  {
   "cell_type": "markdown",
   "metadata": {},
   "source": [
    "### 布尔值\n",
    "- 表示真假的值\n",
    "- 只有两个值1和0，True/False\n",
    "- 布尔值可以跟主子直接操作"
   ]
  },
  {
   "cell_type": "code",
   "execution_count": 16,
   "metadata": {},
   "outputs": [
    {
     "name": "stdout",
     "output_type": "stream",
     "text": [
      "19\n"
     ]
    }
   ],
   "source": [
    "#布尔值操作\n",
    "age  = 18 + True\n",
    "print(age)"
   ]
  },
  {
   "cell_type": "markdown",
   "metadata": {},
   "source": [
    "## 字符串\n",
    "- 用来表示一串文字信息\n",
    "- 如何表示\n",
    "   - 单引号\n",
    "   - 双引号\n",
    "   - 三引号（三个单引号或者三个双引号）\n",
    "       - 能够括起多行信息\n",
    "- 但双引号可以交错使用"
   ]
  },
  {
   "cell_type": "code",
   "execution_count": null,
   "metadata": {},
   "outputs": [],
   "source": [
    "love = 'i love zengzhen!'\n",
    "print(love)\n",
    "\n",
    "\n",
    "love1 = \"我爱曾贞！\"\n",
    "print(love1)\n",
    "\n",
    "\n",
    "# 但双引号交错使用的例子\n",
    "# <a style=\"color:red\">哈哈哈</a>\n",
    "# 用引号表示上面字符串\n",
    "html = 'a style=\"color:red\">哈哈哈</a>'\n",
    "\n",
    "htmls = '''\n",
    "i love zengzhen\n",
    "我爱曾贞\n",
    "哈哈哈\n",
    "'''\n",
    "print(htmls)\n"
   ]
  },
  {
   "cell_type": "markdown",
   "metadata": {},
   "source": [
    "# 字符串\n",
    "  - 转义字符\n",
    "  - 格式化\n",
    "  - 内建函数（后延）\n",
    "  \n",
    "## 转义字符\n",
    "  - 用一个特殊的方法表示出一系列不方便写出的内容，比如回车键，换行键，退格键\n",
    "  - 借助反斜杠字符，一旦字符串中出现反斜杠，则反斜杠后面一个或几个字符表示已经不是原来的意思，进行了转义\n",
    "  - 在字符串中，一旦出现反斜杠要加倍小心，可能有转义字符出现\n",
    "  - 不同系统对换行操作有不同的表示\n",
    "    - window:  \\n\n",
    "    - Linux:  \\r\\n"
   ]
  },
  {
   "cell_type": "code",
   "execution_count": 1,
   "metadata": {},
   "outputs": [
    {
     "name": "stdout",
     "output_type": "stream",
     "text": [
      "I Love ZengZhen!\n"
     ]
    }
   ],
   "source": [
    "s = \"I Love ZengZhen!\"\n",
    "print(s)"
   ]
  },
  {
   "cell_type": "code",
   "execution_count": 6,
   "metadata": {},
   "outputs": [
    {
     "name": "stdout",
     "output_type": "stream",
     "text": [
      "Let's go\n",
      "Let's go\n",
      "I Love \\ ZengZhen\n",
      "c:\\user\n",
      " ZengZhen\n"
     ]
    }
   ],
   "source": [
    "# 如果想表示出Let's go来\n",
    "# 1. 可以使用嵌套引号，即外层使用双引号\n",
    "# 2. 转义字符\n",
    "s = \"Let's go\"\n",
    "print(s)\n",
    "\n",
    "# 下面的  \\'  = =  '\n",
    "s = 'Let\\'s go'\n",
    "print(s)\n",
    "#  下面的  \\  = = \\ 反斜杠没有变化\n",
    "ss = 'I Love \\ ZengZhen'\n",
    "print(ss)\n",
    "\n",
    "# 下面的  \\\\ = = \\,双反斜杠的意义\n",
    "sss = \"c:\\\\user\"\n",
    "print(sss)\n",
    "\n",
    "# 回车换行符\n",
    "s1 = \"I Love \\r\\n ZengZhen\"\n",
    "print(s1)"
   ]
  },
  {
   "cell_type": "markdown",
   "metadata": {},
   "source": [
    "## 字符串的格式化\n",
    "  - 把字符串按照一定格式打印或者填充\n",
    "  - 格式有两种方法\n",
    "    - 利用百分号（%）\n",
    "    - 利用format函数"
   ]
  },
  {
   "cell_type": "code",
   "execution_count": null,
   "metadata": {},
   "outputs": [],
   "source": [
    "s = \"xxx,您好，我们图灵学院开课了，免费的Python呀，不学白不学，学了也白学。\""
   ]
  },
  {
   "cell_type": "markdown",
   "metadata": {},
   "source": [
    "## 利用百分号格式化\n",
    "  - 在字符串中，利用%表示一个特殊的含义，表示对字符进行格式化\n",
    "  - %d:此处应该放入整数\n",
    "  - %s:表示此处应该放入一个字符串"
   ]
  },
  {
   "cell_type": "code",
   "execution_count": 1,
   "metadata": {},
   "outputs": [
    {
     "name": "stdout",
     "output_type": "stream",
     "text": [
      "I Love %s\n"
     ]
    }
   ],
   "source": [
    "s = \"I Love %s\"\n",
    "# 下面打印，直接把%s作为字符串的一个内容打印出来\n",
    "print(s)\n"
   ]
  },
  {
   "cell_type": "code",
   "execution_count": 2,
   "metadata": {},
   "outputs": [
    {
     "name": "stdout",
     "output_type": "stream",
     "text": [
      "I Love Zeng Zhen\n"
     ]
    }
   ],
   "source": [
    "print(\"I Love %s\"%\"Zeng Zhen\")"
   ]
  },
  {
   "cell_type": "code",
   "execution_count": 3,
   "metadata": {},
   "outputs": [
    {
     "name": "stdout",
     "output_type": "stream",
     "text": [
      "I Love Zeng Zhen\n"
     ]
    }
   ],
   "source": [
    "print(s%\"Zeng Zhen\")"
   ]
  },
  {
   "cell_type": "code",
   "execution_count": 4,
   "metadata": {},
   "outputs": [
    {
     "name": "stdout",
     "output_type": "stream",
     "text": [
      "I am %d years old\n",
      "I am 18 years old\n"
     ]
    }
   ],
   "source": [
    "s = \"I am %d years old\"\n",
    "# 留意下面两句话的区别和结果\n",
    "print(s)\n",
    "print(s%18)"
   ]
  },
  {
   "cell_type": "code",
   "execution_count": null,
   "metadata": {},
   "outputs": [],
   "source": [
    "s = \"I am %s,i am %d years old\"\n",
    "print(s)\n",
    "# 如果字符串中有占位符，则有几个占位符必须用几个实际内容代替，或者一个也不要\n",
    "# 如果出现多个占位符，则相应内容需要用括号括起来\n",
    "print(s%(\"shuai ge\",18))"
   ]
  },
  {
   "cell_type": "markdown",
   "metadata": {},
   "source": [
    "### format函数格式化字符串\n",
    "- 直接format韩式进行格式化\n",
    "- 推荐使用这种方法\n",
    "- 在使用上，以{}和：代替%号，后面format带参数完成\n"
   ]
  },
  {
   "cell_type": "code",
   "execution_count": 12,
   "metadata": {},
   "outputs": [
    {
     "name": "stdout",
     "output_type": "stream",
     "text": [
      "I love Zeng Zhen\n",
      "Yes,I am 18 years old,I love tulingxueyuan and i am 18 tears old\n"
     ]
    }
   ],
   "source": [
    "s = \"I love {}\".format(\"Zeng Zhen\")\n",
    "print(s)\n",
    "# 下面出的 0 、1在format（）中是按顺序排列对应的，比如0、1、2、3....n\n",
    "s = \"Yes,I am {1} years old,I love {0} and i am {1} tears old\".format(\"tulingxueyuan\",18)\n",
    "print(s)"
   ]
  },
  {
   "cell_type": "markdown",
   "metadata": {},
   "source": [
    "## None\n",
    "- 表示什么都没有\n",
    "- 如果函数没有返回值，可以返回 None\n",
    "- 用来占位置\n",
    "- 用来解除变量绑定"
   ]
  },
  {
   "cell_type": "markdown",
   "metadata": {},
   "source": [
    "# 表达式\n",
    "- 由一个或者几个数字或者变量和运算符组成的一行代码\n",
    "- 通常会返回一个结果\n",
    "# 运算符\n",
    "- 由一个以上的值经过变化得到新值的过程就叫运算\n",
    "   - 算数运算符\n",
    "   - 比较或者关系运算符\n",
    "   - 逻辑运算符\n",
    "   - 赋值运算符\n",
    "   - 位运算\n",
    "   - 成员运算符"
   ]
  },
  {
   "cell_type": "markdown",
   "metadata": {},
   "source": [
    "## 算术运算符\n",
    "- 进行算数运算的符号\n",
    "- Python没有自增自减运算符"
   ]
  },
  {
   "cell_type": "code",
   "execution_count": 1,
   "metadata": {},
   "outputs": [
    {
     "name": "stdout",
     "output_type": "stream",
     "text": [
      "8\n",
      "63\n",
      "2.25\n",
      "1\n",
      "1\n",
      "6561\n"
     ]
    }
   ],
   "source": [
    "# +、- 跟正常算术运算符一模一样\n",
    "a = 9+3-4\n",
    "print(a)\n",
    "# 乘号用星号（*）代替\n",
    "a = 9*7\n",
    "print(a)\n",
    "# 除号用斜杠（/）代替\n",
    "# 在Python2和Python3中，除号（/）结果可能不一致，此处3系列为准\n",
    "a = 9/4\n",
    "print(a)\n",
    "\n",
    "\n",
    "#  % 取余运算\n",
    "# 两个数字相除应该有商数有余数\n",
    "#  % 只会得到余数\n",
    "a  =  9%4\n",
    "print(a)\n",
    "\n",
    "# // 表示取商运算，也叫地板除\n",
    "a = 9 // 5\n",
    "print(a)\n",
    "\n",
    "\n",
    "# **  表示幂运算\n",
    "a = 9**4\n",
    "print(a)"
   ]
  },
  {
   "cell_type": "markdown",
   "metadata": {},
   "source": [
    "## 比较运算符\n",
    "- 对两个变量或者值进行比较的运算符\n",
    "- 比较的结果是布尔值，即True/False"
   ]
  },
  {
   "cell_type": "code",
   "execution_count": 20,
   "metadata": {},
   "outputs": [
    {
     "name": "stdout",
     "output_type": "stream",
     "text": [
      "False\n",
      "True\n"
     ]
    }
   ],
   "source": [
    "# == , 等于号\n",
    "a = 3**4\n",
    "# 下面语句执行顺序是\n",
    "# 1、计算a == 88\n",
    "# 2、把结果放入b中\n",
    "b = a == 88\n",
    "print(b)\n",
    "\n",
    "# != 不等于\n",
    "print(9!=8)\n",
    "# > 大于\n",
    "# < 小于\n",
    "# >= 大于等于\n",
    "# <= 小于等于"
   ]
  },
  {
   "cell_type": "markdown",
   "metadata": {},
   "source": [
    "## 赋值运算符"
   ]
  },
  {
   "cell_type": "code",
   "execution_count": 27,
   "metadata": {},
   "outputs": [
    {
     "name": "stdout",
     "output_type": "stream",
     "text": [
      "7\n",
      "-6\n",
      "30\n",
      "1.4\n",
      "2\n",
      "0\n",
      "216\n"
     ]
    }
   ],
   "source": [
    "# = 赋值\n",
    "a = 0\n",
    "c = a = 4\n",
    "\n",
    "# +=,是缩写\n",
    "a = 0\n",
    "a+= 7 # a  =  a + 7的缩写\n",
    "print(a)\n",
    "\n",
    "a = 1\n",
    "a -= 7\n",
    "print(a)\n",
    "\n",
    "a = 6\n",
    "a *= 5\n",
    "print(a)\n",
    "\n",
    "a = 7\n",
    "a /= 5\n",
    "print(a)\n",
    "a =5\n",
    "a //=2\n",
    "print(a)\n",
    "\n",
    "a = 4\n",
    "a %= 2\n",
    "print(a)\n",
    "\n",
    "a = 6\n",
    "a **= 3\n",
    "print(a)\n",
    "\n",
    "\n",
    "# 所有数学运算符都有缩写形式\n",
    "# -=，x=，/=，//=，%=，**=，都是缩写形式"
   ]
  },
  {
   "cell_type": "markdown",
   "metadata": {},
   "source": [
    "# 逻辑运算符\n",
    "- 对布尔值进行计算的符号\n",
    "- and 逻辑与\n",
    "- or  逻辑或\n",
    "- not 逻辑非\n",
    "- Python 中逻辑运算没有 异或 运算\n",
    "- 运算规则：\n",
    "   - and看作乘法，or看作加法，\n",
    "   - True看作1，False看作是0，\n",
    "   - 则逻辑运算就能转换成整数数学运算\n",
    "   - 最后结果如果是0 则为False,否则为True\n",
    "- 逻辑运算的短路问题\n",
    "   - 逻辑运算式，按照运算顺序计算，一旦能够确定整个式子未来的值，则不再进行计算，直接返回"
   ]
  },
  {
   "cell_type": "code",
   "execution_count": 29,
   "metadata": {},
   "outputs": [
    {
     "name": "stdout",
     "output_type": "stream",
     "text": [
      "True\n",
      "True\n"
     ]
    }
   ],
   "source": [
    "# 逻辑运算符案例\n",
    "a = True\n",
    "b = False\n",
    "c = True\n",
    "#一下式子等价于d = 1 * 0 + 1\n",
    "d = a and b or c\n",
    "print(d)\n",
    "\n",
    "d = a or b and a\n",
    "print(d)"
   ]
  },
  {
   "cell_type": "code",
   "execution_count": 30,
   "metadata": {},
   "outputs": [
    {
     "ename": "SyntaxError",
     "evalue": "invalid syntax (<ipython-input-30-abb28fdebcf3>, line 9)",
     "output_type": "error",
     "traceback": [
      "\u001b[1;36m  File \u001b[1;32m\"<ipython-input-30-abb28fdebcf3>\"\u001b[1;36m, line \u001b[1;32m9\u001b[0m\n\u001b[1;33m    a = a or (b=9) and 6\u001b[0m\n\u001b[1;37m               ^\u001b[0m\n\u001b[1;31mSyntaxError\u001b[0m\u001b[1;31m:\u001b[0m invalid syntax\n"
     ]
    }
   ],
   "source": [
    "# 逻辑运算的短路案例\n",
    "\n",
    "# 下面的逻辑表达式，a 的值一定是True,则运行到or的时候，整个表达式不再向下计算\n",
    "a = True or xxxxxxxxxxx\n",
    "\n",
    "# 下面表达式，如果xxx中包含赋值表达式，则结果很难预期\n",
    "# 代码示例（伪代码，在Python 3 中不允许这样运行）\n",
    "b = 0 \n",
    "a = a or (b=9) and 6\n",
    "# 假定上面表达式如果没有语法错误\n",
    "# 则b最终的值因该是0而不是9\n",
    "print(b)\n",
    "print(a)"
   ]
  },
  {
   "cell_type": "markdown",
   "metadata": {},
   "source": [
    "## 成员运算符号\n",
    " - 用来检测某一个变量是否是宁一个变量的成员\n",
    " - in (含义是 在里面)\n",
    " - not in(含义是 不在里面)\n",
    " "
   ]
  },
  {
   "cell_type": "code",
   "execution_count": 34,
   "metadata": {},
   "outputs": [
    {
     "name": "stdout",
     "output_type": "stream",
     "text": [
      "False\n",
      "True\n",
      "False\n"
     ]
    }
   ],
   "source": [
    "# 案例\n",
    "l = [1,2,3,4,5]\n",
    "a = 7\n",
    "b = a in l\n",
    "print(b)\n",
    "\n",
    "a = 4 \n",
    "print(a in l)\n",
    "\n",
    "print(a not in l)"
   ]
  },
  {
   "cell_type": "markdown",
   "metadata": {},
   "source": [
    "## 身份运算\n",
    " - is:  用来检测连个变量是否是同一个变量\n",
    "     - 语法就是  var1 is var2\n",
    " - is not: 连个变量不是同一个变量"
   ]
  },
  {
   "cell_type": "code",
   "execution_count": 36,
   "metadata": {},
   "outputs": [
    {
     "name": "stdout",
     "output_type": "stream",
     "text": [
      "True\n",
      "False\n"
     ]
    }
   ],
   "source": [
    "a  = 9\n",
    "b  = 9\n",
    "print(a is b)\n",
    "\n",
    "\n",
    "a = \"I Love Zeng Zhen\"\n",
    "b = \"I Love Zeng Zhen\"\n",
    "print(a is b)"
   ]
  },
  {
   "cell_type": "markdown",
   "metadata": {},
   "source": [
    "## 运算符的优先级问题\n",
    " - 永远记住，括号具有最高优先级\n",
    " - 优先级表格\n",
    "       \n",
    "       - ** 指数（最高优先级）\n",
    "       - ~ + - 按位翻转，一元加号和减号（最后两个的方法名为 +@和 -@）\n",
    "       - * / % //  乘，除，取模和取整除\n",
    "       - + - 加法减法\n",
    "       - 》《 右移，左移运算符\n",
    "       - &  位 'AND'\n",
    "       - ^ |  位运算符\n",
    "       - <= < > >=  比较运算符\n",
    "       - <> == !=  等于运算符\n",
    "       - =  %= /=  //=  -=  +=  *=  **=  赋值运算符\n",
    "       - is   is not  身份运算符\n",
    "       - in   not in  成员运算符\n",
    "       - not or and   逻辑运算符"
   ]
  },
  {
   "cell_type": "markdown",
   "metadata": {},
   "source": [
    "# 程序结构\n",
    "- 顺序\n",
    "- 分支\n",
    "- 循环"
   ]
  }
 ],
 "metadata": {
  "kernelspec": {
   "display_name": "Python 3",
   "language": "python",
   "name": "python3"
  },
  "language_info": {
   "codemirror_mode": {
    "name": "ipython",
    "version": 3
   },
   "file_extension": ".py",
   "mimetype": "text/x-python",
   "name": "python",
   "nbconvert_exporter": "python",
   "pygments_lexer": "ipython3",
   "version": "3.7.0"
  }
 },
 "nbformat": 4,
 "nbformat_minor": 2
}
